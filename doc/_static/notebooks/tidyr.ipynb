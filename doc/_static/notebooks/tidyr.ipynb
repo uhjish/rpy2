{
 "cells": [
  {
   "cell_type": "markdown",
   "metadata": {},
   "source": [
    "# tidyr in Python"
   ]
  },
  {
   "cell_type": "code",
   "execution_count": 1,
   "metadata": {},
   "outputs": [],
   "source": [
    "from rpy2.robjects.lib.tidyr import DataFrame"
   ]
  },
  {
   "cell_type": "markdown",
   "metadata": {},
   "source": [
    "(note: `dplyr` is implicitly used by `tidyr`.)\n",
    "\n",
    "In addition to that, and because this tutorial is in a notebook,\n",
    "we initialize HTML rendering for R objects (pretty display of\n",
    "R data frames)."
   ]
  },
  {
   "cell_type": "code",
   "execution_count": 2,
   "metadata": {},
   "outputs": [],
   "source": [
    "import rpy2.ipython.html\n",
    "rpy2.ipython.html.init_printing()"
   ]
  },
  {
   "cell_type": "code",
   "execution_count": 3,
   "metadata": {},
   "outputs": [
    {
     "data": {
      "text/html": [
       "\n",
       "<emph>DataFrame</emph> with 3 rows and 3 columns:\n",
       "<table class=\"rpy2_table\">\n",
       "  <thead>\n",
       "    <tr class=\"rpy2_names\">\n",
       "      <th></th>\n",
       "      <th></th>\n",
       "      <th>z</th>\n",
       "      <th>x</th>\n",
       "      <th>y</th>\n",
       "    </tr>\n",
       "  </thead>\n",
       "  <tbody>\n",
       "    <tr>\n",
       "      <td class=\"rpy2_rowname\">0</td>\n",
       "        <td class=\"rpy2_names\">1</td>\n",
       "      <td>6</td>\n",
       "      <td>a</td>\n",
       "      <td>3</td>\n",
       "    </tr>\n",
       "    <tr>\n",
       "      <td class=\"rpy2_rowname\">1</td>\n",
       "        <td class=\"rpy2_names\">2</td>\n",
       "      <td>7</td>\n",
       "      <td>b</td>\n",
       "      <td>4</td>\n",
       "    </tr>\n",
       "    <tr>\n",
       "      <td class=\"rpy2_rowname\">2</td>\n",
       "        <td class=\"rpy2_names\">3</td>\n",
       "      <td>8</td>\n",
       "      <td>b</td>\n",
       "      <td>5</td>\n",
       "    </tr>\n",
       "  </tbody>\n",
       "</table>"
      ],
      "text/plain": [
       "<DataFrame - Python:0x7fbc556e4908 / R:0x369d9e8>\n",
       "[IntVector, FactorVector, IntVector]\n",
       "  z: <class 'rpy2.robjects.vectors.IntVector'>\n",
       "  <IntVector - Python:0x7fbc5572bf48 / R:0x1ca7ec8>\n",
       "[       6,        7,        8]\n",
       "  x: <class 'rpy2.robjects.vectors.FactorVector'>\n",
       "  <FactorVector - Python:0x7fbc556da188 / R:0x1c1ad98>\n",
       "[       1,        2,        2]\n",
       "  y: <class 'rpy2.robjects.vectors.IntVector'>\n",
       "  <IntVector - Python:0x7fbc55996548 / R:0x1ccc930>\n",
       "[       3,        4,        5]"
      ]
     },
     "execution_count": 3,
     "metadata": {},
     "output_type": "execute_result"
    }
   ],
   "source": [
    "from collections import OrderedDict\n",
    "from rpy2.robjects.vectors import (StrVector,\n",
    "                                   IntVector)\n",
    "dataf = DataFrame(OrderedDict(x=StrVector((\"a\", \"b\", \"b\")),\n",
    "                              y=IntVector((3, 4, 5)),\n",
    "\t\t              z=IntVector((6, 7, 8))))\n",
    "dataf"
   ]
  },
  {
   "cell_type": "code",
   "execution_count": 4,
   "metadata": {},
   "outputs": [
    {
     "data": {
      "text/html": [
       "\n",
       "<emph>DataFrame</emph> with 3 rows and 3 columns:\n",
       "<table class=\"rpy2_table\">\n",
       "  <thead>\n",
       "    <tr class=\"rpy2_names\">\n",
       "      <th></th>\n",
       "      <th></th>\n",
       "      <th>z</th>\n",
       "      <th>a</th>\n",
       "      <th>b</th>\n",
       "    </tr>\n",
       "  </thead>\n",
       "  <tbody>\n",
       "    <tr>\n",
       "      <td class=\"rpy2_rowname\">0</td>\n",
       "        <td class=\"rpy2_names\">1</td>\n",
       "      <td>6</td>\n",
       "      <td>3</td>\n",
       "      <td>NA</td>\n",
       "    </tr>\n",
       "    <tr>\n",
       "      <td class=\"rpy2_rowname\">1</td>\n",
       "        <td class=\"rpy2_names\">2</td>\n",
       "      <td>7</td>\n",
       "      <td>NA</td>\n",
       "      <td>4</td>\n",
       "    </tr>\n",
       "    <tr>\n",
       "      <td class=\"rpy2_rowname\">2</td>\n",
       "        <td class=\"rpy2_names\">3</td>\n",
       "      <td>8</td>\n",
       "      <td>NA</td>\n",
       "      <td>5</td>\n",
       "    </tr>\n",
       "  </tbody>\n",
       "</table>"
      ],
      "text/plain": [
       "<DataFrame - Python:0x7fbc556f5e48 / R:0x3f61e48>\n",
       "[IntVector, IntVector, IntVector]\n",
       "  z: <class 'rpy2.robjects.vectors.IntVector'>\n",
       "  <IntVector - Python:0x7fbc559962c8 / R:0x368ec20>\n",
       "[       6,        7,        8]\n",
       "  a: <class 'rpy2.robjects.vectors.IntVector'>\n",
       "  <IntVector - Python:0x7fbc556daec8 / R:0x37ccbb0>\n",
       "[       3, NA_integer_, NA_integer_]\n",
       "  b: <class 'rpy2.robjects.vectors.IntVector'>\n",
       "  <IntVector - Python:0x7fbc556dabc8 / R:0x37ccb78>\n",
       "[NA_integer_,        4,        5]"
      ]
     },
     "execution_count": 4,
     "metadata": {},
     "output_type": "execute_result"
    }
   ],
   "source": [
    "dataf.spread('x', 'y')"
   ]
  },
  {
   "cell_type": "markdown",
   "metadata": {},
   "source": [
    "**Reuse. Get things done. Don't reimplement.**"
   ]
  }
 ],
 "metadata": {},
 "nbformat": 4,
 "nbformat_minor": 0
}

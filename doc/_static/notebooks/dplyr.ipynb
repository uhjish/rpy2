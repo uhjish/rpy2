{
 "cells": [
  {
   "cell_type": "markdown",
   "metadata": {},
   "source": [
    "# dplyr in Python\n",
    "\n",
    "We need 2 things for this:\n",
    "\n",
    "1- A data frame (using one of R's demo datasets)."
   ]
  },
  {
   "cell_type": "code",
   "execution_count": 1,
   "metadata": {},
   "outputs": [],
   "source": [
    "from rpy2.robjects.packages import importr, data\n",
    "datasets = importr('datasets')\n",
    "mtcars_env = data(datasets).fetch('mtcars')\n",
    "mtcars = mtcars_env['mtcars']"
   ]
  },
  {
   "cell_type": "markdown",
   "metadata": {},
   "source": [
    "In addition to that, and because this tutorial is in a notebook,\n",
    "we initialize HTML rendering for R objects (pretty display of\n",
    "R data frames)."
   ]
  },
  {
   "cell_type": "code",
   "execution_count": 2,
   "metadata": {},
   "outputs": [],
   "source": [
    "import rpy2.ipython.html\n",
    "rpy2.ipython.html.init_printing()"
   ]
  },
  {
   "cell_type": "markdown",
   "metadata": {},
   "source": [
    "2- dplyr"
   ]
  },
  {
   "cell_type": "code",
   "execution_count": 3,
   "metadata": {},
   "outputs": [],
   "source": [
    "from rpy2.robjects.lib.dplyr import DataFrame"
   ]
  },
  {
   "cell_type": "markdown",
   "metadata": {},
   "source": [
    "With this we have the choice of chaining (D3-style)"
   ]
  },
  {
   "cell_type": "code",
   "execution_count": 4,
   "metadata": {},
   "outputs": [
    {
     "data": {
      "text/html": [
       "\n",
       "<emph>DataFrame</emph> with 2 rows and 2 columns:\n",
       "<table class=\"rpy2_table\">\n",
       "  <thead>\n",
       "    <tr class=\"rpy2_names\">\n",
       "      <th></th>\n",
       "      <th></th>\n",
       "      <th>gear</th>\n",
       "      <th>mean_ptw</th>\n",
       "    </tr>\n",
       "  </thead>\n",
       "  <tbody>\n",
       "    <tr>\n",
       "      <td class=\"rpy2_rowname\">0</td>\n",
       "        <td class=\"rpy2_names\">1</td>\n",
       "      <td>4.0</td>\n",
       "      <td>1237.1266499803169</td>\n",
       "    </tr>\n",
       "    <tr>\n",
       "      <td class=\"rpy2_rowname\">1</td>\n",
       "        <td class=\"rpy2_names\">2</td>\n",
       "      <td>5.0</td>\n",
       "      <td>2574.0331639315027</td>\n",
       "    </tr>\n",
       "  </tbody>\n",
       "</table>"
      ],
      "text/plain": [
       "<DataFrame - Python:0x7f5727f88f48 / R:0x172d1b0>\n",
       "[FloatVector, FloatVector]\n",
       "  gear: <class 'rpy2.robjects.vectors.FloatVector'>\n",
       "  <FloatVector - Python:0x7f572698a5c8 / R:0x3946ae0>\n",
       "[4.000000, 5.000000]\n",
       "  mean_ptw: <class 'rpy2.robjects.vectors.FloatVector'>\n",
       "  <FloatVector - Python:0x7f572698ac88 / R:0x23bb240>\n",
       "[1237.126650, 2574.033164]"
      ]
     },
     "execution_count": 4,
     "metadata": {},
     "output_type": "execute_result"
    }
   ],
   "source": [
    "dataf = (DataFrame(mtcars).\n",
    "         filter('gear>3').\n",
    "         mutate(powertoweight='hp*36/wt').\n",
    "         group_by('gear').\n",
    "         summarize(mean_ptw='mean(powertoweight)'))\n",
    "\n",
    "dataf"
   ]
  },
  {
   "cell_type": "markdown",
   "metadata": {},
   "source": [
    "or piping (magrittr style)."
   ]
  },
  {
   "cell_type": "code",
   "execution_count": 5,
   "metadata": {},
   "outputs": [
    {
     "data": {
      "text/html": [
       "\n",
       "<emph>DataFrame</emph> with 2 rows and 2 columns:\n",
       "<table class=\"rpy2_table\">\n",
       "  <thead>\n",
       "    <tr class=\"rpy2_names\">\n",
       "      <th></th>\n",
       "      <th></th>\n",
       "      <th>gear</th>\n",
       "      <th>mean_ptw</th>\n",
       "    </tr>\n",
       "  </thead>\n",
       "  <tbody>\n",
       "    <tr>\n",
       "      <td class=\"rpy2_rowname\">0</td>\n",
       "        <td class=\"rpy2_names\">1</td>\n",
       "      <td>4.0</td>\n",
       "      <td>1237.1266499803169</td>\n",
       "    </tr>\n",
       "    <tr>\n",
       "      <td class=\"rpy2_rowname\">1</td>\n",
       "        <td class=\"rpy2_names\">2</td>\n",
       "      <td>5.0</td>\n",
       "      <td>2574.0331639315027</td>\n",
       "    </tr>\n",
       "  </tbody>\n",
       "</table>"
      ],
      "text/plain": [
       "<DataFrame - Python:0x7f572693df88 / R:0x2201860>\n",
       "[FloatVector, FloatVector]\n",
       "  gear: <class 'rpy2.robjects.vectors.FloatVector'>\n",
       "  <FloatVector - Python:0x7f5727a50f88 / R:0x188ba98>\n",
       "[4.000000, 5.000000]\n",
       "  mean_ptw: <class 'rpy2.robjects.vectors.FloatVector'>\n",
       "  <FloatVector - Python:0x7f5727f883c8 / R:0x1a63da0>\n",
       "[1237.126650, 2574.033164]"
      ]
     },
     "execution_count": 5,
     "metadata": {},
     "output_type": "execute_result"
    }
   ],
   "source": [
    "from rpy2.robjects.lib.dplyr import (filter,\n",
    "                                     mutate,\n",
    "                                     group_by,\n",
    "                                     summarize)\n",
    "\n",
    "dataf = (DataFrame(mtcars) >>\n",
    "         filter('gear>3') >>\n",
    "         mutate(powertoweight='hp*36/wt') >>\n",
    "         group_by('gear') >>\n",
    "         summarize(mean_ptw='mean(powertoweight)'))\n",
    "\n",
    "dataf"
   ]
  },
  {
   "cell_type": "markdown",
   "metadata": {},
   "source": [
    "The strings passed to the dplyr function are evaluated as expression,\n",
    "just like this is happening when using dplyr in R. This means that\n",
    "when writing `mean(powertoweight)` the R function `mean()` is used.\n",
    "\n",
    "Using an Python function is not too difficult though. We can just\n",
    "call Python back from R:"
   ]
  },
  {
   "cell_type": "code",
   "execution_count": 6,
   "metadata": {},
   "outputs": [
    {
     "data": {
      "text/html": [
       "\n",
       "<emph>DataFrame</emph> with 2 rows and 3 columns:\n",
       "<table class=\"rpy2_table\">\n",
       "  <thead>\n",
       "    <tr class=\"rpy2_names\">\n",
       "      <th></th>\n",
       "      <th></th>\n",
       "      <th>gear</th>\n",
       "      <th>mean_ptw</th>\n",
       "      <th>mean_np_ptw</th>\n",
       "    </tr>\n",
       "  </thead>\n",
       "  <tbody>\n",
       "    <tr>\n",
       "      <td class=\"rpy2_rowname\">0</td>\n",
       "        <td class=\"rpy2_names\">1</td>\n",
       "      <td>4.0</td>\n",
       "      <td>1237.1266499803169</td>\n",
       "      <td>1237.126649980317</td>\n",
       "    </tr>\n",
       "    <tr>\n",
       "      <td class=\"rpy2_rowname\">1</td>\n",
       "        <td class=\"rpy2_names\">2</td>\n",
       "      <td>5.0</td>\n",
       "      <td>2574.0331639315027</td>\n",
       "      <td>2574.0331639315023</td>\n",
       "    </tr>\n",
       "  </tbody>\n",
       "</table>"
      ],
      "text/plain": [
       "<DataFrame - Python:0x7f5727a80f48 / R:0x28ccf88>\n",
       "[FloatVector, FloatVector, FloatVector]\n",
       "  gear: <class 'rpy2.robjects.vectors.FloatVector'>\n",
       "  <FloatVector - Python:0x7f57269b7708 / R:0x1cb48d0>\n",
       "[4.000000, 5.000000]\n",
       "  mean_ptw: <class 'rpy2.robjects.vectors.FloatVector'>\n",
       "  <FloatVector - Python:0x7f57269b7888 / R:0x1632c60>\n",
       "[1237.126650, 2574.033164]\n",
       "  mean_np_ptw: <class 'rpy2.robjects.vectors.FloatVector'>\n",
       "  <FloatVector - Python:0x7f5727a68dc8 / R:0x161b270>\n",
       "[1237.126650, 2574.033164]"
      ]
     },
     "execution_count": 6,
     "metadata": {},
     "output_type": "execute_result"
    }
   ],
   "source": [
    "from rpy2.rinterface import rternalize\n",
    "@rternalize\n",
    "def mean_np(x):\n",
    "    import numpy\n",
    "    return numpy.mean(x)\n",
    "\n",
    "from rpy2.robjects import globalenv\n",
    "globalenv['mean_np'] = mean_np\n",
    "\n",
    "dataf = (DataFrame(mtcars) >>\n",
    "         filter('gear>3') >>\n",
    "         mutate(powertoweight='hp*36/wt') >>\n",
    "         group_by('gear') >>\n",
    "         summarize(mean_ptw='mean(powertoweight)',\n",
    "                   mean_np_ptw='mean_np(powertoweight)'))\n",
    "\n",
    "dataf"
   ]
  },
  {
   "cell_type": "markdown",
   "metadata": {},
   "source": [
    "It is also possible to carry this out without having to\n",
    "place the custom function in R's global environment."
   ]
  },
  {
   "cell_type": "code",
   "execution_count": 7,
   "metadata": {},
   "outputs": [],
   "source": [
    "del(globalenv['mean_np'])"
   ]
  },
  {
   "cell_type": "code",
   "execution_count": 8,
   "metadata": {},
   "outputs": [
    {
     "data": {
      "text/html": [
       "\n",
       "<emph>DataFrame</emph> with 2 rows and 3 columns:\n",
       "<table class=\"rpy2_table\">\n",
       "  <thead>\n",
       "    <tr class=\"rpy2_names\">\n",
       "      <th></th>\n",
       "      <th></th>\n",
       "      <th>gear</th>\n",
       "      <th>mean_ptw</th>\n",
       "      <th>mean_np_ptw</th>\n",
       "    </tr>\n",
       "  </thead>\n",
       "  <tbody>\n",
       "    <tr>\n",
       "      <td class=\"rpy2_rowname\">0</td>\n",
       "        <td class=\"rpy2_names\">1</td>\n",
       "      <td>4.0</td>\n",
       "      <td>1237.1266499803169</td>\n",
       "      <td>1237.126649980317</td>\n",
       "    </tr>\n",
       "    <tr>\n",
       "      <td class=\"rpy2_rowname\">1</td>\n",
       "        <td class=\"rpy2_names\">2</td>\n",
       "      <td>5.0</td>\n",
       "      <td>2574.0331639315027</td>\n",
       "      <td>2574.0331639315023</td>\n",
       "    </tr>\n",
       "  </tbody>\n",
       "</table>"
      ],
      "text/plain": [
       "<DataFrame - Python:0x7f5726914b48 / R:0x12e5d38>\n",
       "[FloatVector, FloatVector, FloatVector]\n",
       "  gear: <class 'rpy2.robjects.vectors.FloatVector'>\n",
       "  <FloatVector - Python:0x7f5727a61148 / R:0x149c8c0>\n",
       "[4.000000, 5.000000]\n",
       "  mean_ptw: <class 'rpy2.robjects.vectors.FloatVector'>\n",
       "  <FloatVector - Python:0x7f5726923ac8 / R:0x1387fb8>\n",
       "[1237.126650, 2574.033164]\n",
       "  mean_np_ptw: <class 'rpy2.robjects.vectors.FloatVector'>\n",
       "  <FloatVector - Python:0x7f57269a5e48 / R:0x3ad2628>\n",
       "[1237.126650, 2574.033164]"
      ]
     },
     "execution_count": 8,
     "metadata": {},
     "output_type": "execute_result"
    }
   ],
   "source": [
    "from rpy2.robjects.lib.dplyr import StringInEnv\n",
    "from rpy2.robjects import Environment\n",
    "my_env = Environment()\n",
    "my_env['mean_np'] = mean_np\n",
    "\n",
    "dataf = (DataFrame(mtcars) >>\n",
    "         filter('gear>3') >>\n",
    "         mutate(powertoweight='hp*36/wt') >>\n",
    "         group_by('gear') >>\n",
    "         summarize(mean_ptw='mean(powertoweight)',\n",
    "                   mean_np_ptw=StringInEnv('mean_np(powertoweight)',\n",
    "                                           my_env)))\n",
    "\n",
    "dataf"
   ]
  },
  {
   "cell_type": "markdown",
   "metadata": {},
   "source": [
    "**note**: rpy2's interface to dplyr is implementing a fix to the (non-?)issue 1323\n",
    "(https://github.com/hadley/dplyr/issues/1323)\n",
    "\n",
    "The seamless translation of transformations to SQL whenever the\n",
    "data are in a table can be used directly. Since we are lifting\n",
    "the original implementation of `dplyr`, it *just works*."
   ]
  },
  {
   "cell_type": "code",
   "execution_count": 9,
   "metadata": {},
   "outputs": [
    {
     "name": "stdout",
     "output_type": "stream",
     "text": [
      "Source: sqlite 3.8.6 [/tmp/tmp2nueqllw]\n",
      "From: <derived table> [?? x 2]\n",
      "\n",
      "    gear mean_ptw\n",
      "   (dbl)    (dbl)\n",
      "1      4 1237.127\n",
      "2      5 2574.033\n",
      "..   ...      ...\n",
      "\n"
     ]
    }
   ],
   "source": [
    "from rpy2.robjects.lib.dplyr import dplyr\n",
    "# in-memory SQLite database broken in dplyr's src_sqlite\n",
    "# db = dplyr.src_sqlite(\":memory:\")\n",
    "import tempfile\n",
    "with tempfile.NamedTemporaryFile() as db_fh:\n",
    "    db = dplyr.src_sqlite(db_fh.name)\n",
    "    # copy the table to that database\n",
    "    dataf_db = DataFrame(mtcars).copy_to(db, name=\"mtcars\")\n",
    "    res = (dataf_db >>\n",
    "           filter('gear>3') >>\n",
    "           mutate(powertoweight='hp*36/wt') >>\n",
    "           group_by('gear') >>\n",
    "           summarize(mean_ptw='mean(powertoweight)'))\n",
    "    print(res)\n",
    "# "
   ]
  },
  {
   "cell_type": "markdown",
   "metadata": {},
   "source": [
    "Since we are manipulating R objects, anything available to R is also available\n",
    "to us. If we want to see the SQL code generated that's:"
   ]
  },
  {
   "cell_type": "code",
   "execution_count": 10,
   "metadata": {},
   "outputs": [
    {
     "name": "stdout",
     "output_type": "stream",
     "text": [
      "<SQL> SELECT \"gear\", \"mean_ptw\"\n",
      "FROM (SELECT \"gear\", AVG(\"powertoweight\") AS \"mean_ptw\"\n",
      "FROM (SELECT \"mpg\", \"cyl\", \"disp\", \"hp\", \"drat\", \"wt\", \"qsec\", \"vs\", \"am\", \"gear\", \"carb\", \"hp\" * 36.0 / \"wt\" AS \"powertoweight\"\n",
      "FROM \"mtcars\"\n",
      "WHERE \"gear\" > 3.0) AS \"zzz1\"\n",
      "GROUP BY \"gear\") AS \"zzz2\"\n",
      "\n"
     ]
    }
   ],
   "source": [
    "print(res.rx2(\"query\")[\"sql\"])"
   ]
  },
  {
   "cell_type": "markdown",
   "metadata": {},
   "source": [
    "And if the starting point is a pandas data frame,\n",
    "do the following and start over again."
   ]
  },
  {
   "cell_type": "code",
   "execution_count": 11,
   "metadata": {
    "attributes": {
     "classes": [
      "python "
     ],
     "id": ""
    }
   },
   "outputs": [
    {
     "name": "stdout",
     "output_type": "stream",
     "text": [
      "<class 'pandas.core.frame.DataFrame'>\n"
     ]
    }
   ],
   "source": [
    "from rpy2.robjects import pandas2ri\n",
    "from rpy2.robjects import default_converter\n",
    "from rpy2.robjects.conversion import localconverter\n",
    "with localconverter(default_converter + pandas2ri.converter) as cv:\n",
    "    mtcars = mtcars_env['mtcars']\n",
    "    mtcars = pandas2ri.ri2py(mtcars)\n",
    "print(type(mtcars))"
   ]
  },
  {
   "cell_type": "markdown",
   "metadata": {},
   "source": [
    "Using a local converter let's us also go from the pandas data frame to our dplyr-augmented R data frame."
   ]
  },
  {
   "cell_type": "code",
   "execution_count": 12,
   "metadata": {},
   "outputs": [
    {
     "data": {
      "text/html": [
       "\n",
       "<emph>DataFrame</emph> with 3 rows and 2 columns:\n",
       "<table class=\"rpy2_table\">\n",
       "  <thead>\n",
       "    <tr class=\"rpy2_names\">\n",
       "      <th></th>\n",
       "      <th></th>\n",
       "      <th>gear</th>\n",
       "      <th>mean_ptw</th>\n",
       "    </tr>\n",
       "  </thead>\n",
       "  <tbody>\n",
       "    <tr>\n",
       "      <td class=\"rpy2_rowname\">0</td>\n",
       "        <td class=\"rpy2_names\">1</td>\n",
       "      <td>3.0</td>\n",
       "      <td>1633.989574118287</td>\n",
       "    </tr>\n",
       "    <tr>\n",
       "      <td class=\"rpy2_rowname\">1</td>\n",
       "        <td class=\"rpy2_names\">2</td>\n",
       "      <td>4.0</td>\n",
       "      <td>1237.1266499803169</td>\n",
       "    </tr>\n",
       "    <tr>\n",
       "      <td class=\"rpy2_rowname\">2</td>\n",
       "        <td class=\"rpy2_names\">3</td>\n",
       "      <td>5.0</td>\n",
       "      <td>2574.0331639315027</td>\n",
       "    </tr>\n",
       "  </tbody>\n",
       "</table>"
      ],
      "text/plain": [
       "<DataFrame - Python:0x7f5726967088 / R:0x14d49c8>\n",
       "[Array, Array]\n",
       "  gear: <class 'rpy2.robjects.vectors.Array'>\n",
       "  <Array - Python:0x7f5727f888c8 / R:0x38d60d0>\n",
       "[3.000000, 4.000000, 5.000000]\n",
       "  mean_ptw: <class 'rpy2.robjects.vectors.Array'>\n",
       "  <Array - Python:0x7f5727f88408 / R:0x379cfd8>\n",
       "[1633.989574, 1237.126650, 2574.033164]"
      ]
     },
     "execution_count": 12,
     "metadata": {},
     "output_type": "execute_result"
    }
   ],
   "source": [
    "with localconverter(default_converter + pandas2ri.converter) as cv:\n",
    "    dataf = (DataFrame(mtcars).\n",
    "             filter('gear>=3').\n",
    "             mutate(powertoweight='hp*36/wt').\n",
    "             group_by('gear').\n",
    "             summarize(mean_ptw='mean(powertoweight)'))\n",
    "\n",
    "dataf"
   ]
  },
  {
   "cell_type": "markdown",
   "metadata": {},
   "source": [
    "**Reuse. Get things done. Don't reimplement.**"
   ]
  }
 ],
 "metadata": {},
 "nbformat": 4,
 "nbformat_minor": 0
}
